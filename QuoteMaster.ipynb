{
  "cells": [
    {
      "cell_type": "markdown",
      "metadata": {
        "id": "view-in-github",
        "colab_type": "text"
      },
      "source": [
        "<a href=\"https://colab.research.google.com/github/shashithenuwara/Quote_Master/blob/main/QuoteMaster.ipynb\" target=\"_parent\"><img src=\"https://colab.research.google.com/assets/colab-badge.svg\" alt=\"Open In Colab\"/></a>"
      ]
    },
    {
      "cell_type": "code",
      "execution_count": null,
      "id": "f07f154d-0e03-4873-b926-ffee95f6a26f",
      "metadata": {
        "id": "f07f154d-0e03-4873-b926-ffee95f6a26f",
        "outputId": "484c7f96-e20b-47be-a880-52836f1d2b83"
      },
      "outputs": [
        {
          "name": "stdout",
          "output_type": "stream",
          "text": [
            "Requirement already satisfied: numpy in c:\\users\\thenu\\anaconda3\\lib\\site-packages (1.26.4)\n",
            "Requirement already satisfied: scikit-learn in c:\\users\\thenu\\anaconda3\\lib\\site-packages (1.4.2)\n",
            "Requirement already satisfied: scipy>=1.6.0 in c:\\users\\thenu\\anaconda3\\lib\\site-packages (from scikit-learn) (1.13.1)\n",
            "Requirement already satisfied: joblib>=1.2.0 in c:\\users\\thenu\\anaconda3\\lib\\site-packages (from scikit-learn) (1.4.2)\n",
            "Requirement already satisfied: threadpoolctl>=2.0.0 in c:\\users\\thenu\\anaconda3\\lib\\site-packages (from scikit-learn) (2.2.0)\n"
          ]
        }
      ],
      "source": [
        "#intall the package which need\n",
        "!pip install numpy scikit-learn\n"
      ]
    },
    {
      "cell_type": "code",
      "execution_count": null,
      "id": "d50f8d67-99e3-49ac-9b29-d7a537bd9c34",
      "metadata": {
        "id": "d50f8d67-99e3-49ac-9b29-d7a537bd9c34"
      },
      "outputs": [],
      "source": [
        "#import libraries\n",
        "import random\n",
        "import numpy as np\n",
        "from sklearn.feature_extraction.text import TfidfVectorizer\n",
        "from sklearn.metrics.pairwise import cosine_similarity\n",
        "import threading\n",
        "import time\n"
      ]
    },
    {
      "cell_type": "markdown",
      "id": "4f49d8f9-6d38-4ae4-94d2-047e6d6d12b6",
      "metadata": {
        "id": "4f49d8f9-6d38-4ae4-94d2-047e6d6d12b6"
      },
      "source": [
        "Game Implementation"
      ]
    },
    {
      "cell_type": "code",
      "execution_count": null,
      "id": "a3729b3b-87fb-4110-9331-8be7de9839c0",
      "metadata": {
        "id": "a3729b3b-87fb-4110-9331-8be7de9839c0",
        "outputId": "d22aa1a3-650d-4c5f-aa7b-684994b5a87d"
      },
      "outputs": [
        {
          "name": "stdout",
          "output_type": "stream",
          "text": [
            "Quote:  Love deeply and worry less\n",
            "Time exceeded! You lose the game.\n"
          ]
        },
        {
          "name": "stdin",
          "output_type": "stream",
          "text": [
            "Please create your own quote for above quote:  love deeply and worry less\n"
          ]
        }
      ],
      "source": [
        "# quotes\n",
        "quotes = [\n",
        "    \"Dream big and work hard\",\n",
        "    \"Love deeply and worry less\",\n",
        "    \"Stay positive and stay focused\"\n",
        "]\n",
        "\n",
        "#function to check the similarity between given quote and user entered quote\n",
        "def calculate_similarity(quote1, quote2):\n",
        "    vectorizer = TfidfVectorizer()\n",
        "    # Transform the quotes into TF-IDF vectors\n",
        "    tfidfMatrix = vectorizer.fit_transform([quote1, quote2])\n",
        "    # Calculate the cosine similarity\n",
        "    cSmatrix = cosine_similarity(tfidfMatrix[0:1], tfidfMatrix[1:2])\n",
        "    return cSmatrix[0][0]\n",
        "\n",
        "def input_with_timeout(prompt, timeout):\n",
        "    userInput = [None]\n",
        "\n",
        "    def get_User_input():\n",
        "        userInput[0] = input(prompt)\n",
        "\n",
        "    thread = threading.Thread(target= get_User_input)\n",
        "    thread.start()\n",
        "    thread.join(timeout)\n",
        "\n",
        "    if thread.is_alive():\n",
        "        return None  # Input not provided within the time period\n",
        "    return userInput[0]\n",
        "\n",
        "def quote_master():\n",
        "    givenTime = 15  #time for each\n",
        "    remainingTime = givenTime\n",
        "\n",
        "    while remainingTime > 0:\n",
        "        # Randomly select a quote from quotes\n",
        "        randomQuote = random.choice(quotes)\n",
        "        print(\"Quote: \", randomQuote)\n",
        "\n",
        "        startTime = time.time()\n",
        "\n",
        "        # Get user input\n",
        "        userQuote = input_with_timeout(\"Please create your own quote for above quote: \", remainingTime)\n",
        "        if userQuote is None:\n",
        "            print(\"Time exceeded! You lose the game.\")\n",
        "            return\n",
        "\n",
        "        endTime = time.time()\n",
        "        spentTime = endTime - startTime\n",
        "        remainingTime -= spentTime\n",
        "\n",
        "        # Calculate similarity\n",
        "        similarity = calculate_similarity(randomQuote, userQuote)\n",
        "        print(f\"Cosine Similarity Score: {similarity:.2f}\")\n",
        "        print(f\"Remaining time: {remainingTime:.2f} seconds\")\n",
        "\n",
        "        #check the similarity\n",
        "        if similarity > 0.5:\n",
        "            print(\"Congratulations!!You Win The Game!\")\n",
        "            return\n",
        "        else:\n",
        "            print(\"Sorry, Your Quote Is Not Similar Enough\")\n",
        "            if remainingTime <= 0:\n",
        "                print(\"Time exceeded! You lose the game.\")\n",
        "                return\n",
        "\n",
        "# Start the game\n",
        "if __name__ == \"__main__\":\n",
        "    quote_master()\n"
      ]
    },
    {
      "cell_type": "code",
      "execution_count": null,
      "id": "88a63e74-c08a-4e19-93cc-cae3acb05728",
      "metadata": {
        "id": "88a63e74-c08a-4e19-93cc-cae3acb05728"
      },
      "outputs": [],
      "source": []
    }
  ],
  "metadata": {
    "kernelspec": {
      "display_name": "Python 3 (ipykernel)",
      "language": "python",
      "name": "python3"
    },
    "language_info": {
      "codemirror_mode": {
        "name": "ipython",
        "version": 3
      },
      "file_extension": ".py",
      "mimetype": "text/x-python",
      "name": "python",
      "nbconvert_exporter": "python",
      "pygments_lexer": "ipython3",
      "version": "3.12.4"
    },
    "colab": {
      "provenance": [],
      "include_colab_link": true
    }
  },
  "nbformat": 4,
  "nbformat_minor": 5
}